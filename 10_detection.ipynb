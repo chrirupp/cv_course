{
  "cells": [
    {
      "cell_type": "code",
      "execution_count": null,
      "metadata": {
        "id": "kenFrRBB3qJT"
      },
      "outputs": [],
      "source": [
        "import cv2\n",
        "import numpy as np\n",
        "import matplotlib.pyplot as plt\n",
        "import copy\n",
        "import random\n",
        "from tqdm import tqdm\n",
        "import torch\n",
        "import torchvision\n",
        "from torchvision import datasets\n",
        "import torchvision.transforms as transforms\n"
      ]
    },
    {
      "cell_type": "code",
      "execution_count": null,
      "metadata": {
        "colab": {
          "base_uri": "https://localhost:8080/"
        },
        "id": "M_E6nFKB34pg",
        "outputId": "9aabbdab-8ae5-491c-aab1-c789f9491095"
      },
      "outputs": [],
      "source": [
        "%%sh\n",
        "# Download the data - you need to do this only once\n",
        "wget --no-verbose --output-document=image_me.jpg https://github.com/chrirupp/cv_course/raw/main/data/image_me.jpg"
      ]
    },
    {
      "cell_type": "code",
      "execution_count": null,
      "metadata": {
        "id": "MdonITct3qJT"
      },
      "outputs": [],
      "source": [
        "class Visualizer():\n",
        "    def __init__(self, num_rows=1, num_cols=1, figsize=(5,5), axis_off=True, title='', tight=False, cm=None):\n",
        "        self.fig, self.axs = plt.subplots(num_rows, num_cols, figsize=figsize, squeeze=False)\n",
        "        # remove ticks\n",
        "        if axis_off:\n",
        "          plt.setp(plt.gcf().get_axes(), xticks=[], yticks=[])\n",
        "        # set colormap\n",
        "        if cm is not None:\n",
        "            plt.set_cmap(cm)\n",
        "        # set supertitle\n",
        "        self.fig.suptitle(title)\n",
        "        if tight:\n",
        "            self.fig.subplots_adjust(top=0.88)\n",
        "\n",
        "    def add_image_subplot(self, i, j, image, normalize=False, title_str=''):\n",
        "        if normalize:\n",
        "            image = self.normalize_image(image)\n",
        "        if len(image.shape) == 3:\n",
        "            #BGR -> RGB\n",
        "            image = image[:, :, ::-1]\n",
        "        self.axs[i, j].imshow(image)\n",
        "        self.axs[i, j].set_title(title_str)\n",
        "\n",
        "    def add_stem_subplot(self, i, j, x, y, title_str=''):\n",
        "        self.axs[i, j].stem(x, y)\n",
        "        self.axs[i, j].set_title(title_str)\n",
        "\n",
        "    def add_subplot(self, i, j, data, title_str=''):\n",
        "        self.axs[i, j].plot(data)\n",
        "        self.axs[i, j].set_title(title_str)\n",
        "\n",
        "    def add_bar_subplot(self, i, j, x, y, title_str=''):\n",
        "        self.axs[i, j].bar(x, y)\n",
        "        self.axs[i, j].set_title(title_str)\n",
        "\n",
        "    def add_scatter_subplot_with_labels(self, i, j, data, labels, legend=None, title_str=''):\n",
        "        scatter = self.axs[i, j].scatter(data[:,0], data[:,1], c=labels)\n",
        "        scatter.set_cmap('jet')\n",
        "        if legend is not None:\n",
        "            plt.legend(handles=scatter.legend_elements()[0], labels=legend)\n",
        "        self.axs[i, j].set_title(title_str)\n",
        "\n",
        "    def add_scatter_subplot_with_txt(self, i, j, data, txt, title_str=''):\n",
        "        self.axs[i, j].scatter(data[:,0], data[:,1])\n",
        "        for idx, txt in enumerate(txt):\n",
        "            self.axs[i, j].annotate(txt, (data[idx,0], data[idx,1]))\n",
        "        self.axs[i, j].set_title(title_str)\n",
        "\n",
        "    @staticmethod\n",
        "    def normalize_image(image):\n",
        "        img = np.float64(image) - np.min(image)\n",
        "        img /= np.max(img)\n",
        "        return img"
      ]
    },
    {
      "cell_type": "code",
      "execution_count": null,
      "metadata": {
        "colab": {
          "base_uri": "https://localhost:8080/",
          "height": 1000
        },
        "id": "bS4RFRNQ3qJU",
        "outputId": "a07e2a11-e5a8-4eb5-a77b-b381434536cf"
      },
      "outputs": [],
      "source": [
        "# load image\n",
        "img = cv2.imread('image_me.jpg')\n",
        "gray = cv2.cvtColor(img, cv2.COLOR_BGR2GRAY)\n",
        "\n",
        "# detect people with HOG\n",
        "hog = cv2.HOGDescriptor()\n",
        "hog.setSVMDetector(cv2.HOGDescriptor_getDefaultPeopleDetector())\n",
        "boxes, weights = hog.detectMultiScale(img, winStride=(8,8), padding=(32,32), scale=1.05)\n",
        "grad = gray.copy()\n",
        "angles = gray.copy()\n",
        "grad, angles = hog.computeGradient(img, grad, angles)\n",
        "print(grad.shape)\n",
        "\n",
        "# draw boxes\n",
        "for (x, y, w, h) in boxes:\n",
        "    cv2.rectangle(img, (x, y), (x+w, y+h), (0, 255, 0), 2)\n",
        "\n",
        "# visualize\n",
        "vis = Visualizer(1, 1, figsize=(10,10), axis_off=True)\n",
        "vis.add_image_subplot(0, 0, img, title_str='HOG')\n",
        "\n",
        "# extract crop from detection\n",
        "vis = Visualizer(1, 3, figsize=(10,10), axis_off=True)\n",
        "\n",
        "x, y, w, h = boxes[0]\n",
        "crop = gray[y:y+h, x:x+w]\n",
        "grad = grad[y:y+h, x:x+w]\n",
        "angles = np.arctan2(grad[:, :, 1], grad[:, :, 0])\n",
        "# convert to color hsv\n",
        "angles = (angles + np.pi) / (2 * np.pi) * 180\n",
        "angles = angles[:,:,None]\n",
        "angles = np.tile(angles, (1,1,3))\n",
        "angles[:,:,1] = 255\n",
        "angles[:,:,2] = 255\n",
        "# clip to hsv range\n",
        "angles = cv2.cvtColor(np.uint8(angles), cv2.COLOR_HSV2RGB)\n",
        "# resize to 64x128\n",
        "crop = cv2.resize(crop, (64, 128))\n",
        "grad = cv2.resize(grad, (64, 128))\n",
        "angles = cv2.resize(angles, (64, 128))\n",
        "\n",
        "vis.add_image_subplot(0, 0, np.tile(crop[:,:,None], (1,1,3)), title_str='Crop')\n",
        "vis.add_image_subplot(0, 1,grad[:,:,0]**2 + grad[:,:,1]**2, title_str='Gradient')\n",
        "vis.add_image_subplot(0, 2, angles, title_str='Angles')\n",
        "\n"
      ]
    },
    {
      "cell_type": "code",
      "execution_count": null,
      "metadata": {
        "colab": {
          "base_uri": "https://localhost:8080/",
          "height": 576
        },
        "id": "kHwG-PsK3qJU",
        "outputId": "52a9f52f-6abd-46e9-f763-a18c9a261250"
      },
      "outputs": [],
      "source": [
        "# selective search for object proposals\n",
        "img = cv2.imread('image_me.jpg')\n",
        "# resize 50%\n",
        "img = cv2.resize(img, (0,0), fx=0.5, fy=0.5)\n",
        "ss = cv2.ximgproc.segmentation.createSelectiveSearchSegmentation()\n",
        "ss.setBaseImage(img)\n",
        "ss.switchToSelectiveSearchFast()\n",
        "rects = ss.process()\n",
        "output = img.copy()\n",
        "for i, rect in enumerate(rects):\n",
        "    x, y, w, h = rect\n",
        "    cv2.rectangle(output, (x, y), (x+w, y+h), (0, 255, 0), 1)\n",
        "\n",
        "# visualize\n",
        "vis = Visualizer(1, 1, figsize=(10,10), axis_off=True)\n",
        "vis.add_image_subplot(0, 0, output, title_str=f'Selective Search {len(rects)} proposals')"
      ]
    },
    {
      "cell_type": "code",
      "execution_count": null,
      "metadata": {
        "colab": {
          "base_uri": "https://localhost:8080/"
        },
        "id": "aMeMxFU33qJU",
        "outputId": "dca398ce-8b6b-4a90-8e38-31453e659ad4"
      },
      "outputs": [],
      "source": [
        "model = torch.hub.load('pytorch/vision', 'resnet50', weights=torchvision.models.resnet.ResNet50_Weights.DEFAULT)\n",
        "class_names = torchvision.models.resnet.ResNet18_Weights.DEFAULT.meta[\"categories\"]\n",
        "\n",
        "img = cv2.imread('image_me.jpg')\n",
        "img = cv2.resize(img, (0,0), fx=0.5, fy=0.5)\n",
        "ss = cv2.ximgproc.segmentation.createSelectiveSearchSegmentation()\n",
        "ss.setBaseImage(img)\n",
        "ss.switchToSelectiveSearchFast()\n",
        "rects = ss.process()"
      ]
    },
    {
      "cell_type": "code",
      "execution_count": null,
      "metadata": {
        "colab": {
          "base_uri": "https://localhost:8080/",
          "height": 761
        },
        "id": "RRhrCQKv3qJU",
        "outputId": "c8a49a24-acf9-4b0b-f1de-37ae68631363"
      },
      "outputs": [],
      "source": [
        "# classify proposals\n",
        "model.eval()\n",
        "output = img.copy()\n",
        "transform = transforms.Compose([transforms.ToPILImage(),\n",
        "                                transforms.Resize((224,224)),\n",
        "                                transforms.ToTensor(),\n",
        "                                transforms.Normalize(mean=[0.485, 0.456, 0.406], std=[0.229, 0.224, 0.225])])\n",
        "for rect in tqdm(rects):\n",
        "    x, y, w, h = rect\n",
        "    # find square crop\n",
        "    s = max(w, h)\n",
        "    x = x + (w - s)//2\n",
        "    y = y + (h - s)//2\n",
        "    if x < 0 or y < 0:\n",
        "        continue\n",
        "    crop = img[y:y+h, x:x+w]\n",
        "    crop = transform(crop)\n",
        "    crop = crop[None, :, :, :]\n",
        "    with torch.no_grad():\n",
        "        out = model(crop)\n",
        "        probs = torch.nn.functional.softmax(out[0], dim=0)\n",
        "        prob, predicted = torch.max(probs, 0)\n",
        "        if prob < 0.5:\n",
        "            continue\n",
        "        print(\"found\")\n",
        "        label = class_names[predicted]\n",
        "        cv2.rectangle(output, (x, y), (x+w, y+h), (0, 255, 0), 1)\n",
        "        cv2.putText(output, label, (x, y), cv2.FONT_HERSHEY_SIMPLEX, 0.5, (0, 255, 0), 1)\n",
        "\n",
        "# visualize\n",
        "vis = Visualizer(1, 1, figsize=(10,10), axis_off=True)\n",
        "vis.add_image_subplot(0, 0, output, title_str=f'Classified proposals')\n"
      ]
    }
  ],
  "metadata": {
    "colab": {
      "provenance": []
    },
    "kernelspec": {
      "display_name": "cvlecture",
      "language": "python",
      "name": "python3"
    },
    "language_info": {
      "codemirror_mode": {
        "name": "ipython",
        "version": 3
      },
      "file_extension": ".py",
      "mimetype": "text/x-python",
      "name": "python",
      "nbconvert_exporter": "python",
      "pygments_lexer": "ipython3",
      "version": "3.10.13"
    }
  },
  "nbformat": 4,
  "nbformat_minor": 0
}
