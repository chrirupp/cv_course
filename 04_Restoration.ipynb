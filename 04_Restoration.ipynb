{
  "cells": [
    {
      "cell_type": "code",
      "execution_count": null,
      "metadata": {
        "id": "Din6EGVTdNQ_"
      },
      "outputs": [],
      "source": [
        "import cv2\n",
        "import os\n",
        "import numpy as np\n",
        "import torch\n",
        "import numpy.fft as fft\n",
        "import scipy.linalg as linalg\n",
        "import matplotlib.pyplot as plt\n",
        "from matplotlib.animation import FuncAnimation\n",
        "%matplotlib inline\n",
        "from IPython.display import HTML, Video, display\n",
        "from tqdm import tqdm"
      ]
    },
    {
      "cell_type": "code",
      "execution_count": null,
      "metadata": {
        "colab": {
          "base_uri": "https://localhost:8080/"
        },
        "id": "bJyVS36MdUE8",
        "outputId": "58082d94-c19a-4ca6-8556-b2cbfb8fb0ce"
      },
      "outputs": [],
      "source": [
        "%%sh\n",
        "# Download the data - you need to do this only once\n",
        "wget --no-verbose --output-document=image.jpg https://github.com/chrirupp/cv_course/raw/main/data/image.jpg\n",
        "wget --no-verbose --output-document=image_ivy.jpg https://github.com/chrirupp/cv_course/raw/main/data/image_ivy.jpg"
      ]
    },
    {
      "cell_type": "code",
      "execution_count": null,
      "metadata": {
        "id": "G5x5Ho1CfNHp"
      },
      "outputs": [],
      "source": [
        "class Visualizer():\n",
        "    def __init__(self, num_rows=1, num_cols=1, figsize=(5,5), axis_off=True, title='', tight=False, cm=None):\n",
        "        fig, self.axs = plt.subplots(num_rows, num_cols, figsize=figsize, squeeze=False)\n",
        "        # remove ticks\n",
        "        if axis_off:\n",
        "          plt.setp(plt.gcf().get_axes(), xticks=[], yticks=[])\n",
        "        # set colormap\n",
        "        if cm is not None:\n",
        "            plt.set_cmap(cm)\n",
        "        # set supertitle\n",
        "        fig.suptitle(title)\n",
        "        if tight:\n",
        "            fig.subplots_adjust(top=0.88)\n",
        "\n",
        "    def add_image_subplot(self, i, j, image, normalize=False, title_str=''):\n",
        "        if normalize:\n",
        "            image = self.normalize_image(image)\n",
        "        if len(image.shape) == 3:\n",
        "            #BGR -> RGB\n",
        "            image = image[:, :, ::-1]\n",
        "        self.axs[i, j].imshow(image)\n",
        "        self.axs[i, j].set_title(title_str)\n",
        "\n",
        "    def add_stem_subplot(self, i, j, x, y, title_str=''):\n",
        "      self.axs[i, j].stem(x, y)\n",
        "      self.axs[i, j].set_title(title_str)\n",
        "\n",
        "    @staticmethod\n",
        "    def normalize_image(image):\n",
        "        img = np.float64(image) - np.min(image)\n",
        "        img /= np.max(img)\n",
        "        return img\n",
        "\n",
        "def create_video(filename, fps, shape):\n",
        "    return cv2.VideoWriter(filename, cv2.VideoWriter_fourcc(*'mp4v'), fps, (shape[1], shape[0]))\n",
        "\n",
        "def show_video(filename, width=640):\n",
        "    tmp_mp4 = f\"{filename[:-4]}_H264{filename[-4:]}\"\n",
        "    os.system(f\"ffmpeg -i {filename} -vcodec libx264 {tmp_mp4}\")\n",
        "    os.remove(filename)\n",
        "    os.rename(tmp_mp4, filename)\n",
        "    display(Video(filename, embed=True, width=width))"
      ]
    },
    {
      "cell_type": "code",
      "execution_count": null,
      "metadata": {
        "colab": {
          "base_uri": "https://localhost:8080/",
          "height": 317
        },
        "id": "G8FDPEJndRyv",
        "outputId": "bde1182a-5179-442d-bf3d-32cf5f3bca8d"
      },
      "outputs": [],
      "source": [
        "# Read image\n",
        "image = cv2.imread('image.jpg')\n",
        "\n",
        "vis = Visualizer(1, 1, figsize=(5,5))\n",
        "vis.add_image_subplot(0, 0, image, title_str='Original image')\n"
      ]
    },
    {
      "cell_type": "markdown",
      "metadata": {
        "id": "k7W6s1CUlbg9"
      },
      "source": [
        "## Degradation examples"
      ]
    },
    {
      "cell_type": "code",
      "execution_count": null,
      "metadata": {
        "colab": {
          "base_uri": "https://localhost:8080/",
          "height": 468
        },
        "id": "UMmMVN8nkf-L",
        "outputId": "87313d93-2386-49c0-e5d5-2ea89ce78545"
      },
      "outputs": [],
      "source": [
        "# blur\n",
        "blur_filter = cv2.getGaussianKernel(64, 6)\n",
        "blur_filter = blur_filter @ blur_filter.T\n",
        "blur_filter /= np.sum(blur_filter)\n",
        "blur = cv2.filter2D(image, -1, blur_filter)\n",
        "\n",
        "vis = Visualizer(1, 2, figsize=(15,5), axis_off=False)\n",
        "vis.add_image_subplot(0, 0, blur_filter, title_str='Blur filter')\n",
        "vis.add_image_subplot(0, 1, blur, title_str='Output image')\n"
      ]
    },
    {
      "cell_type": "code",
      "execution_count": null,
      "metadata": {
        "colab": {
          "base_uri": "https://localhost:8080/",
          "height": 468
        },
        "id": "a1af2wBHkVee",
        "outputId": "39f09e3b-e420-40ba-fbd7-949a3107aca9"
      },
      "outputs": [],
      "source": [
        "# motion blur (not real motion blur)\n",
        "kernel = np.zeros((64, 64))\n",
        "kernel[32, :] = 1\n",
        "kernel = kernel / 64\n",
        "motion_blur = cv2.filter2D(image, -1, kernel)\n",
        "\n",
        "vis = Visualizer(1, 2, figsize=(15,5), axis_off=False)\n",
        "vis.add_image_subplot(0, 0, kernel, title_str='Motion blur filter')\n",
        "vis.add_image_subplot(0, 1, motion_blur, title_str='Output image')\n"
      ]
    },
    {
      "cell_type": "code",
      "execution_count": null,
      "metadata": {
        "colab": {
          "base_uri": "https://localhost:8080/",
          "height": 435
        },
        "id": "24oMdPTLkZ3C",
        "outputId": "53d4df7c-8b6d-41b8-a5e3-cf23a2a2c800"
      },
      "outputs": [],
      "source": [
        "# additive noise\n",
        "noise = np.random.normal(0, 64, image.shape)\n",
        "noise_image = np.clip(image + noise, 0, 255).astype(np.uint8)\n",
        "\n",
        "vis = Visualizer(1, 2, figsize=(15,5), axis_off=False)\n",
        "vis.add_image_subplot(0, 0, np.clip(noise+128, 0, 255).astype(np.uint8), title_str='Additive noise')\n",
        "vis.add_image_subplot(0, 1, noise_image, title_str='Output image')\n"
      ]
    },
    {
      "cell_type": "code",
      "execution_count": null,
      "metadata": {
        "colab": {
          "base_uri": "https://localhost:8080/",
          "height": 436
        },
        "id": "XMTRqDBbkmMX",
        "outputId": "0a34e90c-4741-42c3-c864-55af96e485e7"
      },
      "outputs": [],
      "source": [
        "# downsample (spatial quantization)\n",
        "downsample = cv2.resize(image, (0,0), fx=0.125, fy=0.125)\n",
        "\n",
        "vis = Visualizer(1, 2, figsize=(15,5), axis_off=False)\n",
        "vis.add_image_subplot(0, 0, image, title_str='Original image')\n",
        "vis.add_image_subplot(0, 1, downsample, title_str='Downsampled image')"
      ]
    },
    {
      "cell_type": "markdown",
      "metadata": {
        "id": "Womsol81lpXY"
      },
      "source": [
        "## Restoration"
      ]
    },
    {
      "cell_type": "code",
      "execution_count": null,
      "metadata": {
        "colab": {
          "base_uri": "https://localhost:8080/",
          "height": 279
        },
        "id": "GpWj3MxIfyU5",
        "outputId": "6474e8b5-4089-4d8f-d537-05522ae6b61b"
      },
      "outputs": [],
      "source": [
        "def get_magnitude(dft):\n",
        "    dft_shift = np.fft.fftshift(dft, axes=(0,1))\n",
        "    magnitude = np.clip(np.log(1+np.abs(dft_shift)), 0, None)\n",
        "    magnitude -= np.min(magnitude)\n",
        "    magnitude /= np.max(magnitude)\n",
        "    magnitude *= 255\n",
        "    return np.uint8(magnitude)\n",
        "\n",
        "\n",
        "# inverting blur\n",
        "blur_dft = fft.fft2(np.float32(blur), axes=(0,1))\n",
        "blur_mag = get_magnitude(blur_dft)\n",
        "\n",
        "pad_size = ((image.shape[0]-blur_filter.shape[0])//2, (image.shape[1]-blur_filter.shape[1])//2)\n",
        "blur_filter_padded = np.pad(blur_filter, ((pad_size[0],pad_size[0]), (pad_size[1],pad_size[1])), 'constant')\n",
        "blur_filter_dft = fft.fft2(np.float32(blur_filter_padded))\n",
        "blur_filter_mag = get_magnitude(blur_filter_dft)\n",
        "\n",
        "deblurred_dft = blur_dft / blur_filter_dft[:, :, np.newaxis]\n",
        "deblurred_dft[deblurred_dft.shape[0]//2, :, :] = 0\n",
        "deblurred_dft[:, deblurred_dft.shape[1]//2, :] = 0\n",
        "filtered_mag = get_magnitude(deblurred_dft)\n",
        "deblurred_image = np.real(fft.ifftshift(fft.ifft2(deblurred_dft, axes=(0,1)), axes=(0,1)))\n",
        "\n",
        "vis = Visualizer(1, 5, figsize=(25,5), tight=True)\n",
        "vis.add_image_subplot(0, 0, blur, title_str='Blurred image')\n",
        "vis.add_image_subplot(0, 1, blur_mag, normalize=True, title_str='FT(Blurred image)')\n",
        "vis.add_image_subplot(0, 2, blur_filter_mag, normalize=True, title_str='FT(Blur filter)')\n",
        "vis.add_image_subplot(0, 3, filtered_mag, title_str='FT(Deblurred image)')\n",
        "vis.add_image_subplot(0, 4, np.clip(deblurred_image, 0, 255).astype(np.uint8), title_str='Deblurred image')\n"
      ]
    },
    {
      "cell_type": "code",
      "execution_count": null,
      "metadata": {
        "colab": {
          "base_uri": "https://localhost:8080/",
          "height": 279
        },
        "id": "uwD0_HFTlTbI",
        "outputId": "fdfc5ee9-33da-4d84-850d-361cbf5f2a80"
      },
      "outputs": [],
      "source": [
        "# inverting blur with a Wiener filter\n",
        "wiener_filter = np.conj(blur_filter_dft) / (np.abs(blur_filter_dft)**2 + 1e-3)\n",
        "wiener_filter_mag = get_magnitude(wiener_filter)\n",
        "\n",
        "wiener_dft = blur_dft * wiener_filter[:, :, np.newaxis]\n",
        "wiener_image = np.real(fft.ifftshift(fft.ifft2(wiener_dft, axes=(0,1)), axes=(0,1)))\n",
        "filtered_mag = get_magnitude(wiener_dft)\n",
        "\n",
        "vis = Visualizer(1, 5, figsize=(25,5), tight=True)\n",
        "vis.add_image_subplot(0, 0, blur, title_str='Blurred image')\n",
        "vis.add_image_subplot(0, 1, blur_mag, normalize=True, title_str='FT(Blurred image)')\n",
        "vis.add_image_subplot(0, 2, wiener_filter_mag, normalize=True, title_str='FT(Wiener filter)')\n",
        "vis.add_image_subplot(0, 3, filtered_mag, title_str='FT(Deblurred image)')\n",
        "vis.add_image_subplot(0, 4, np.clip(wiener_image, 0, 255).astype(np.uint8), title_str='Deblurred image')\n"
      ]
    },
    {
      "cell_type": "code",
      "execution_count": null,
      "metadata": {
        "colab": {
          "base_uri": "https://localhost:8080/",
          "height": 448
        },
        "id": "p-obYN88ryZG",
        "outputId": "7e4f401f-c553-4cf8-c45f-dfb5b6850e54"
      },
      "outputs": [],
      "source": [
        "# inverting blur with a Wiener filter - animation\n",
        "output = create_video('deblur_animation.mp4', 30, image.shape)\n",
        "for i in range(0, 60):\n",
        "    sigma = 1 + 8 * (1+np.sin(i/60.0 * np.pi * 2))*0.5\n",
        "    blur_filter = cv2.getGaussianKernel(64, sigma)\n",
        "    blur_filter = blur_filter @ blur_filter.T\n",
        "    blur_filter /= np.sum(blur_filter)\n",
        "    pad_size = ((image.shape[0]-blur_filter.shape[0])//2, (image.shape[1]-blur_filter.shape[1])//2)\n",
        "    blur_filter_padded = np.pad(blur_filter, ((pad_size[0],pad_size[0]), (pad_size[1],pad_size[1])), 'constant')\n",
        "    blur_filter_dft = fft.fft2(np.float32(blur_filter_padded))\n",
        "\n",
        "    wiener_filter = np.conj(blur_filter_dft) / (np.abs(blur_filter_dft)**2 + 1e-3)\n",
        "    wiener_dft = blur_dft * wiener_filter[:, :, np.newaxis]\n",
        "    wiener_image = np.real(fft.ifftshift(fft.ifft2(wiener_dft, axes=(0,1)), axes=(0,1)))\n",
        "    output.write(np.clip(wiener_image, 0, 255).astype(np.uint8))\n",
        "output.release()\n",
        "show_video('deblur_animation.mp4')"
      ]
    },
    {
      "cell_type": "code",
      "execution_count": null,
      "metadata": {
        "colab": {
          "base_uri": "https://localhost:8080/",
          "height": 444
        },
        "id": "ekjoF_ijsei2",
        "outputId": "03a8b31e-2852-4dcf-f81c-6940370c836e"
      },
      "outputs": [],
      "source": [
        "# inverting motion blur - try to find better parameters\n",
        "est_angle = -3  # adjust the angle\n",
        "est_motion_blur_length = 16  # adjust the length (must be multiple of 2)\n",
        "est_noise_ratio = 0.03  # adjust the noise ratio\n",
        "\n",
        "motion_blur = cv2.resize(cv2.imread('image_ivy.jpg'), (0,0), fx=0.25, fy=0.25)\n",
        "rot_mat = cv2.getRotationMatrix2D((motion_blur.shape[1]//2, motion_blur.shape[0]//2), est_angle, 1.0)\n",
        "motion_blur = cv2.warpAffine(motion_blur, rot_mat, (motion_blur.shape[1], motion_blur.shape[0]), flags=cv2.INTER_LINEAR)\n",
        "motion_blur_dft = fft.fft2(np.float32(motion_blur), axes=(0,1))\n",
        "\n",
        "motion_blur_filter = np.zeros((est_motion_blur_length, est_motion_blur_length))\n",
        "motion_blur_filter[motion_blur_filter.shape[0]//2, :] = 1.0 / motion_blur_filter.shape[1]\n",
        "pad_size = ((motion_blur.shape[0]-motion_blur_filter.shape[0])//2, (motion_blur.shape[1]-motion_blur_filter.shape[1])//2)\n",
        "motion_blur_filter_padded = np.pad(motion_blur_filter, ((pad_size[0],pad_size[0]), (pad_size[1],pad_size[1])), 'constant')\n",
        "motion_blur_filter_dft = fft.fft2(np.float32(motion_blur_filter_padded))\n",
        "motion_blur_filter_mag = get_magnitude(motion_blur_filter_dft)\n",
        "\n",
        "motion_wiener_filter = np.conj(motion_blur_filter_dft) / (np.abs(motion_blur_filter_dft)**2 + est_noise_ratio)\n",
        "motion_wiener_filter_mag = get_magnitude(motion_wiener_filter)\n",
        "\n",
        "motion_wiener_dft = motion_blur_dft * motion_wiener_filter[:, :, np.newaxis]\n",
        "motion_wiener_image = np.real(fft.ifftshift(fft.ifft2(motion_wiener_dft, axes=(0,1)), axes=(0,1)))\n",
        "rot_mat = cv2.getRotationMatrix2D((motion_wiener_image.shape[1]//2, motion_wiener_image.shape[0]//2), -est_angle, 1.0)\n",
        "motion_wiener_image = cv2.warpAffine(motion_wiener_image, rot_mat, (motion_wiener_image.shape[1], motion_wiener_image.shape[0]), flags=cv2.INTER_LINEAR)\n",
        "motion_filtered_mag = get_magnitude(motion_wiener_dft)\n",
        "\n",
        "vis = Visualizer(1, 5, figsize=(25,5), tight=True)\n",
        "vis.add_image_subplot(0, 0, motion_blur, title_str='Motion-blurred image')\n",
        "vis.add_image_subplot(0, 1, motion_blur_filter_mag, normalize=True, title_str='FT(Motion-blur filter)')\n",
        "vis.add_image_subplot(0, 2, motion_wiener_filter_mag, normalize=True, title_str='FT(Motion-blur Wiener filter)')\n",
        "vis.add_image_subplot(0, 3, motion_filtered_mag, title_str='FT(Deblurred image)')\n",
        "vis.add_image_subplot(0, 4, np.clip(motion_wiener_image, 0, 255).astype(np.uint8), title_str='Deblurred image')"
      ]
    },
    {
      "cell_type": "code",
      "execution_count": null,
      "metadata": {
        "colab": {
          "base_uri": "https://localhost:8080/",
          "height": 726
        },
        "id": "ZsyAhkcateAy",
        "outputId": "a2b8af23-6654-4fab-9e7f-8ff3a944b52f"
      },
      "outputs": [],
      "source": [
        "# inverse problems\n",
        "# create an mirror overlay image\n",
        "noise = np.random.normal(0, 64, image.shape)\n",
        "ratio = 0.4\n",
        "image_mirror = np.uint8(np.clip((ratio*np.float32(image) + (1-ratio)*np.float32(image[:, ::-1, :])) + noise, 0, 255))\n",
        "# cv2.imwrite('04/image_mirror.jpg', image_mirror)\n",
        "vis = Visualizer(1, 1, figsize=(5, 5))\n",
        "vis.add_image_subplot(0, 0, image_mirror, title_str=f'Corrupted image (ratio:{ratio} mirrored)')\n",
        "plt.show()\n",
        "\n",
        "print('Restoring original image (demirror)')\n",
        "low_res = cv2.resize(image_mirror, (0,0), fx=0.5, fy=0.5)  # consider downsampling more - it is quite slow\n",
        "output = create_video('demirror_animation.mp4', 30, low_res.shape)\n",
        "target = torch.from_numpy(low_res).float()\n",
        "image_est = torch.nn.Parameter(torch.zeros(low_res.shape, dtype=torch.float32))\n",
        "for i in tqdm(range(300*30)):\n",
        "    reconstruction = ratio*image_est + (1-ratio)*torch.fliplr(image_est)\n",
        "    reconstruction_error = torch.mean((reconstruction - target)**2)\n",
        "    gradient_x = image_est[:, 1:, :] - image_est[:, :-1, :]\n",
        "    gradient_y = image_est[1:, :, :] - image_est[:-1, :, :]\n",
        "    prior = torch.mean(torch.abs(gradient_x)) + torch.mean(torch.abs(gradient_y))\n",
        "    loss = reconstruction_error + 2 * prior\n",
        "    # gradient descent:\n",
        "    image_est.grad = None  # clear gradients\n",
        "    loss.backward()  # compute gradients\n",
        "    image_est.data -= 1000 * image_est.grad.data  # do a gradient step\n",
        "    if i % 30 == 0:\n",
        "        output.write(np.clip(image_est.data.numpy(), 0, 255).astype(np.uint8))\n",
        "output.release()\n",
        "show_video('demirror_animation.mp4')"
      ]
    }
  ],
  "metadata": {
    "colab": {
      "provenance": []
    },
    "kernelspec": {
      "display_name": "Python 3",
      "name": "python3"
    },
    "language_info": {
      "name": "python"
    }
  },
  "nbformat": 4,
  "nbformat_minor": 0
}
