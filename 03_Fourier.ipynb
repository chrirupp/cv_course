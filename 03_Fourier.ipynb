{
  "cells": [
    {
      "cell_type": "code",
      "execution_count": null,
      "metadata": {
        "id": "DoV4YV2hZolB"
      },
      "outputs": [],
      "source": [
        "import cv2\n",
        "import os\n",
        "import numpy as np\n",
        "import numpy.fft as fft\n",
        "import matplotlib.pyplot as plt\n",
        "from matplotlib.animation import FuncAnimation\n",
        "%matplotlib inline\n",
        "from IPython.display import HTML, Video, display\n",
        "from google.colab.patches import cv2_imshow"
      ]
    },
    {
      "cell_type": "code",
      "execution_count": null,
      "metadata": {
        "colab": {
          "base_uri": "https://localhost:8080/"
        },
        "id": "R1LcRIFLajjL",
        "outputId": "6d86ef36-bc2f-481a-db89-4397deb0c6a2"
      },
      "outputs": [],
      "source": [
        "%%sh\n",
        "# Download the data - you need to do this only once\n",
        "mkdir 03\n",
        "wget --no-verbose --output-document=03/image.jpg https://github.com/chrirupp/cv_course/raw/main/data/image.jpg\n",
        "wget --no-verbose --output-document=03/image_windows.jpg https://github.com/chrirupp/cv_course/raw/main/data/image_windows.jpg\n",
        "wget --no-verbose --output-document=03/image_bridge.jpg https://github.com/chrirupp/cv_course/raw/main/data/image_bridge.jpg\n",
        "wget --no-verbose --output-document=03/image_branch.jpg https://github.com/chrirupp/cv_course/raw/main/data/image_branch.jpg\n",
        "wget --no-verbose --output-document=03/image_lanterns.jpg https://github.com/chrirupp/cv_course/raw/main/data/image_lanterns.jpg"
      ]
    },
    {
      "cell_type": "code",
      "execution_count": null,
      "metadata": {
        "id": "fPecdvPnaubh"
      },
      "outputs": [],
      "source": [
        "class Visualizer():\n",
        "    def __init__(self, num_rows=1, num_cols=1, figsize=(5,5), title='', tight=False, cm=None):\n",
        "        fig, self.axs = plt.subplots(num_rows, num_cols, figsize=figsize, squeeze = False)\n",
        "        # remove ticks\n",
        "        plt.setp(plt.gcf().get_axes(), xticks=[], yticks=[])\n",
        "        # set colormap\n",
        "        if cm is not None:\n",
        "            plt.set_cmap(cm)\n",
        "        # set supertitle\n",
        "        fig.suptitle(title)\n",
        "        if tight:\n",
        "            fig.subplots_adjust(top=0.88)\n",
        "\n",
        "    def add_image_subplot(self, i, j, image, normalize=False, title_str=''):\n",
        "        if normalize:\n",
        "            image = self.normalize_image(image)\n",
        "        self.axs[i, j].imshow(image)\n",
        "        self.axs[i, j].set_title(title_str)\n",
        "\n",
        "    def add_stem_subplot(self, i, j, x, y, title_str=''):\n",
        "      self.axs[i, j].stem(x, y)\n",
        "      self.axs[i, j].set_title(title_str)\n",
        "\n",
        "    @staticmethod\n",
        "    def normalize_image(image):\n",
        "        img = np.float64(image) - np.min(image)\n",
        "        img /= np.max(img)\n",
        "        return img\n",
        "\n",
        "def show_video(filename, width=640):\n",
        "    tmp_mp4 = f\"{filename[:-4]}_H264{filename[-4:]}\"\n",
        "    os.system(f\"ffmpeg -i {filename} -vcodec libx264 {tmp_mp4}\")\n",
        "    os.remove(filename)\n",
        "    os.rename(tmp_mp4, filename)\n",
        "    display(Video(filename, embed=True, width=width))\n"
      ]
    },
    {
      "cell_type": "code",
      "execution_count": null,
      "metadata": {
        "colab": {
          "base_uri": "https://localhost:8080/",
          "height": 317
        },
        "id": "yAlO9ej5ZsEn",
        "outputId": "9f4a72c0-94aa-4d62-b21b-dc512f28a851"
      },
      "outputs": [],
      "source": [
        "# make checkerboard\n",
        "checkerboard = np.round(np.sqrt(np.arange(512, 0, -1, dtype=np.float32)*2)).astype(np.uint8)\n",
        "checkerboard = checkerboard[:, np.newaxis] + checkerboard[np.newaxis, :]\n",
        "checkerboard = (checkerboard % 2) * 255\n",
        "checkerboard = np.stack([checkerboard, checkerboard, checkerboard], axis=2)\n",
        "\n",
        "vis = Visualizer(1, 8, figsize=(32, 4), tight=True)\n",
        "vis.add_image_subplot(0, 0, checkerboard, title_str='Original Image')\n",
        "\n",
        "# downsample\n",
        "for i in range(1, 8):\n",
        "    vis.add_image_subplot(0, i, cv2.resize(checkerboard[::2**i, ::2**i, :], (512, 512), interpolation=cv2.INTER_NEAREST), title_str=f'Downsampled by {2**i}')"
      ]
    },
    {
      "cell_type": "code",
      "execution_count": null,
      "metadata": {
        "colab": {
          "base_uri": "https://localhost:8080/",
          "height": 828
        },
        "id": "O6KUkcRZaqKG",
        "outputId": "2959279b-101e-4925-af89-eaaeff582d4f"
      },
      "outputs": [],
      "source": [
        "# 1D discrete Fourier transform\n",
        "\n",
        "num_samples = 16\n",
        "values = (np.arange(num_samples, dtype=np.float32) / num_samples) * 2 * np.pi\n",
        "function = np.sin(values)\n",
        "vis = Visualizer(1, 2, figsize=(10, 5))\n",
        "vis.add_stem_subplot(0, 0, values, function, title_str='sin(x)')\n",
        "\n",
        "function_fft = fft.fft(function)\n",
        "frequency = fft.fftfreq(values.shape[0], 1/num_samples)\n",
        "amplitude = np.abs(function_fft)\n",
        "plt.stem(frequency, amplitude)\n",
        "vis.add_stem_subplot(0, 1, frequency, amplitude, title_str='DFT Amplitude sin(x)')\n",
        "\n",
        "\n",
        "# 1D discrete Fourier with pixels\n",
        "\n",
        "discrete_function_pixels = np.round(np.abs(function*0.5+0.5)*255).astype(np.uint8)\n",
        "vis = Visualizer(1, 3, figsize=(15, 5), cm='gray')\n",
        "vis.add_image_subplot(0, 0, cv2.resize(discrete_function_pixels[np.newaxis, :], (16*num_samples, 16), interpolation=cv2.INTER_NEAREST), title_str='Space Domain')\n",
        "\n",
        "dft_matrix = np.exp(-2j * np.pi * np.outer(values, values))\n",
        "vis.add_image_subplot(0, 1, np.real(dft_matrix), normalize=True, title_str='DFT (Real)')\n",
        "vis.add_image_subplot(0, 2, np.imag(dft_matrix), normalize=True, title_str='DFT (Imaginary)')\n"
      ]
    },
    {
      "cell_type": "code",
      "execution_count": null,
      "metadata": {
        "colab": {
          "base_uri": "https://localhost:8080/",
          "height": 508
        },
        "id": "_U21SFcendpJ",
        "outputId": "0443fed0-d482-4b58-a240-0897ca9f5a63"
      },
      "outputs": [],
      "source": [
        "# 2D basis functions\n",
        "\n",
        "num_samples = 256\n",
        "values = (np.arange(num_samples, dtype=np.float32) / num_samples)\n",
        "vis = Visualizer(3, 8, figsize=(15, 5), title='Basis functions', cm='gray', tight=True)\n",
        "\n",
        "for u in range(0, 3):\n",
        "    for v in range(0, 8):\n",
        "        basis_function = np.exp(2j * np.pi * (u * values[:, np.newaxis] + v * values[np.newaxis, :]))\n",
        "        vis.add_image_subplot(u, v, np.real(basis_function), normalize=True)\n"
      ]
    },
    {
      "cell_type": "code",
      "execution_count": null,
      "metadata": {
        "colab": {
          "base_uri": "https://localhost:8080/",
          "height": 1000
        },
        "id": "tjZdDMuIjAM7",
        "outputId": "ebaf0855-72ac-4f74-98ea-f823244a4f4a"
      },
      "outputs": [],
      "source": [
        "# FFT examples on images\n",
        "\n",
        "def fft_image(image):\n",
        "    dft = fft.fft2(np.float32(image))\n",
        "    dft_shift = np.fft.fftshift(dft)\n",
        "    magnitude = np.abs(dft_shift)\n",
        "    phase = np.angle(dft_shift)\n",
        "    return magnitude, phase\n",
        "\n",
        "def show_fft(image_filename):\n",
        "    image = cv2.imread(image_filename, cv2.IMREAD_GRAYSCALE)\n",
        "    mag, pha = fft_image(image)\n",
        "    vis = Visualizer(1, 3, figsize=(12, 4), cm='gray')\n",
        "    vis.add_image_subplot(0, 0, image, title_str='Image')\n",
        "    vis.add_image_subplot(0, 1, np.log(mag), normalize=True, title_str='Log Magnitude')\n",
        "    vis.add_image_subplot(0, 2, pha, normalize=True, title_str='Phase')\n",
        "\n",
        "show_fft('03/image.jpg')\n",
        "show_fft('03/image_windows.jpg')\n",
        "show_fft('03/image_bridge.jpg')\n",
        "show_fft('03/image_branch.jpg')\n",
        "show_fft('03/image_lanterns.jpg')\n"
      ]
    },
    {
      "cell_type": "code",
      "execution_count": null,
      "metadata": {
        "colab": {
          "base_uri": "https://localhost:8080/",
          "height": 988
        },
        "id": "STo-e9GZxf21",
        "outputId": "e75a68f9-15bc-4022-c9ec-5e7b21158811"
      },
      "outputs": [],
      "source": [
        "def create_video(filename, fps, shape):\n",
        "    return cv2.VideoWriter(filename, cv2.VideoWriter_fourcc(*'mp4v'), fps, (shape[1], shape[0]))\n",
        "\n",
        "def get_magnitude(dft):\n",
        "    dft_shift = np.fft.fftshift(dft)\n",
        "    magnitude = np.clip(np.log(1+np.abs(dft_shift)), 0, None)\n",
        "    magnitude -= np.min(magnitude)\n",
        "    magnitude /= np.max(magnitude)\n",
        "    magnitude *= 255\n",
        "    return np.uint8(magnitude)\n",
        "\n",
        "# do some animations\n",
        "\n",
        "filename = '03/fft_animation_zoom.mp4'\n",
        "output = create_video(filename, 30, (256, 512))\n",
        "for i in range(0, 120):\n",
        "    image = np.zeros((256, 256), dtype=np.uint8)\n",
        "    s = np.int32(np.sin(i/120 * np.pi * 2) * 32)+1\n",
        "    cv2.rectangle(image, (64+s, 64+s), (256-64-s, 256-64-s), 255, -1)\n",
        "    magnitude = get_magnitude(fft.fft2(np.float32(image)))\n",
        "    frame = np.concatenate([image, np.uint8(magnitude)], axis=1)\n",
        "    output.write(np.tile(frame[:, :, np.newaxis], (1, 1, 3)))\n",
        "output.release()\n",
        "show_video(filename)\n",
        "\n",
        "filename = '03/fft_animation_rotation.mp4'\n",
        "output = create_video(filename, 30, (256, 512))\n",
        "for i in range(0, 120):\n",
        "    image = np.zeros((256, 256), dtype=np.uint8)\n",
        "    angle = i/120 * 360\n",
        "    rect = ((128, 128), (128, 16), angle)\n",
        "    box = cv2.boxPoints(rect)\n",
        "    box = np.intp(box)\n",
        "    cv2.drawContours(image,[box],0,255,-1)\n",
        "    magnitude = get_magnitude(fft.fft2(np.float32(image)))\n",
        "    frame = np.concatenate([image, np.uint8(magnitude)], axis=1)\n",
        "    output.write(np.tile(frame[:, :, np.newaxis], (1, 1, 3)))\n",
        "output.release()\n",
        "show_video(filename)\n",
        "\n",
        "filename = '03/fft_animation_translation.mp4'\n",
        "output = create_video(filename, 30, (256, 512))\n",
        "for i in range(0, 120):\n",
        "    image = np.zeros((256, 256), dtype=np.uint8)\n",
        "    angle = i/120 * 2 * np.pi\n",
        "    cx = int(np.sin(angle) * 64 + 128)\n",
        "    cy = int(np.cos(angle) * 64 + 128)\n",
        "    rect = ((cx, cy), (128, 16), 0)\n",
        "    box = cv2.boxPoints(rect)\n",
        "    box = np.intp(box)\n",
        "    cv2.drawContours(image,[box],0,255,-1)\n",
        "    magnitude = get_magnitude(fft.fft2(np.float32(image)))\n",
        "    frame = np.concatenate([image, np.uint8(magnitude)], axis=1)\n",
        "    output.write(np.tile(frame[:, :, np.newaxis], (1, 1, 3)))\n",
        "output.release()\n",
        "show_video(filename)\n"
      ]
    },
    {
      "cell_type": "markdown",
      "metadata": {
        "id": "jUhz7Up26fFm"
      },
      "source": [
        "# Filtering Examples"
      ]
    },
    {
      "cell_type": "code",
      "execution_count": null,
      "metadata": {
        "colab": {
          "base_uri": "https://localhost:8080/",
          "height": 829
        },
        "id": "hrAIyF5x0eB2",
        "outputId": "7e980814-721f-4e8f-e669-a1f79af4e3dd"
      },
      "outputs": [],
      "source": [
        "# Box filter\n",
        "\n",
        "image = cv2.imread('03/image.jpg', cv2.IMREAD_GRAYSCALE)\n",
        "image_dft = fft.fft2(np.float32(image)/255)\n",
        "image_mag = get_magnitude(image_dft)\n",
        "filter = np.zeros(image.shape, dtype=np.uint8)\n",
        "cv2.rectangle(filter, (image.shape[1]//2-16, image.shape[0]//2-16), (image.shape[1]//2+16, image.shape[0]//2+16), 255, -1)\n",
        "filter_dft = fft.fft2(np.float32(filter))\n",
        "filter_mag = get_magnitude(filter_dft)\n",
        "\n",
        "filtered_dft = image_dft * filter_dft\n",
        "filtered_image = np.real(fft.fftshift(fft.ifft2(filtered_dft)))\n",
        "filtered_mag = get_magnitude(fft.fft2(np.float32(filtered_image)))\n",
        "\n",
        "vis = Visualizer(3, 2, cm='gray', figsize=(10, 10))\n",
        "vis.add_image_subplot(0, 0, filter, title_str='Box filter')\n",
        "vis.add_image_subplot(0, 1, filter_mag, normalize=True, title_str='FFT (Magnitude) of Filter')\n",
        "vis.add_image_subplot(1, 0, image, title_str='Original Image')\n",
        "vis.add_image_subplot(1, 1, image_mag, normalize=True, title_str='FFT (Magnitude) of Image')\n",
        "vis.add_image_subplot(2, 0, filtered_image, title_str='Filtered Image')\n",
        "vis.add_image_subplot(2, 1, filtered_mag, normalize=True, title_str='FFT (Magnitude) of Filtered Image')"
      ]
    },
    {
      "cell_type": "code",
      "execution_count": null,
      "metadata": {
        "colab": {
          "base_uri": "https://localhost:8080/",
          "height": 829
        },
        "id": "hAGWsQfS4J1k",
        "outputId": "efb5702b-7386-4d53-bdad-29d77976077b"
      },
      "outputs": [],
      "source": [
        "# Gaussian filter\n",
        "\n",
        "filter = cv2.getGaussianKernel(64, 8)\n",
        "filter = np.outer(filter, filter)\n",
        "filter /= np.sum(filter)\n",
        "pad_size = ((image.shape[0]-filter.shape[0])//2, (image.shape[1]-filter.shape[1])//2)\n",
        "filter = np.pad(filter, ((pad_size[0],pad_size[0]), (pad_size[1],pad_size[1])), 'constant')\n",
        "filter_dft = fft.fft2(np.float32(filter))\n",
        "filter_mag = get_magnitude(filter_dft)\n",
        "\n",
        "filtered_dft = image_dft * filter_dft\n",
        "filtered_image = np.real(fft.fftshift(fft.ifft2(filtered_dft)))\n",
        "filtered_mag = get_magnitude(fft.fft2(np.float32(filtered_image)))\n",
        "\n",
        "\n",
        "vis = Visualizer(3, 2, cm='gray', figsize=(10, 10))\n",
        "vis.add_image_subplot(0, 0, filter, title_str='Gaussian filter')\n",
        "vis.add_image_subplot(0, 1, filter_mag, normalize=True, title_str='FFT (Magnitude) of Filter')\n",
        "vis.add_image_subplot(1, 0, image, title_str='Original Image')\n",
        "vis.add_image_subplot(1, 1, image_mag, normalize=True, title_str='FFT (Magnitude) of Image')\n",
        "vis.add_image_subplot(2, 0, filtered_image, title_str='Filtered Image')\n",
        "vis.add_image_subplot(2, 1, filtered_mag, normalize=True, title_str='FFT (Magnitude) of Filtered Image')"
      ]
    },
    {
      "cell_type": "code",
      "execution_count": null,
      "metadata": {
        "colab": {
          "base_uri": "https://localhost:8080/",
          "height": 588
        },
        "id": "2rQuVb9I6lyn",
        "outputId": "da55ae02-c60c-4f40-f7d3-766549f95598"
      },
      "outputs": [],
      "source": [
        "# Low-pass filter\n",
        "\n",
        "mask = np.zeros(image.shape, dtype=np.uint8)\n",
        "cv2.circle(mask, (image.shape[1]//2, image.shape[0]//2), 64, 255, -1)\n",
        "\n",
        "filtered_dft = fft.fftshift(image_dft)\n",
        "filtered_dft[mask == 0] = 0\n",
        "filtered_image = np.real(fft.ifft2(fft.ifftshift(filtered_dft)))\n",
        "filtered_mag = get_magnitude(fft.fft2(np.float32(filtered_image)))\n",
        "\n",
        "vis = Visualizer(2, 2, cm='gray', figsize=(10, 7))\n",
        "vis.add_image_subplot(0, 0, image, title_str='Original Image')\n",
        "vis.add_image_subplot(0, 1, image_mag, normalize=True, title_str='FFT (Magnitude) of Image')\n",
        "vis.add_image_subplot(1, 0, filtered_image, title_str='Filtered Image')\n",
        "vis.add_image_subplot(1, 1, filtered_mag, normalize=True, title_str='FFT (Magnitude) of Filtered Image')\n"
      ]
    },
    {
      "cell_type": "code",
      "execution_count": null,
      "metadata": {
        "colab": {
          "base_uri": "https://localhost:8080/",
          "height": 588
        },
        "id": "zloiYgaA7ND-",
        "outputId": "3ee5a7d4-dc7f-4507-f902-b5689e111939"
      },
      "outputs": [],
      "source": [
        "# High-pass filter\n",
        "\n",
        "filtered_dft = fft.fftshift(image_dft)\n",
        "filtered_dft[mask == 255] = 0\n",
        "filtered_image = np.real(fft.ifft2(fft.ifftshift(filtered_dft)))\n",
        "filtered_mag = get_magnitude(fft.fft2(np.float32(filtered_image)))\n",
        "\n",
        "vis = Visualizer(2, 2, cm='gray', figsize=(10, 7))\n",
        "vis.add_image_subplot(0, 0, image, title_str='Original Image')\n",
        "vis.add_image_subplot(0, 1, image_mag, normalize=True, title_str='FFT (Magnitude) of Image')\n",
        "vis.add_image_subplot(1, 0, filtered_image, title_str='Filtered Image')\n",
        "vis.add_image_subplot(1, 1, filtered_mag, normalize=True, title_str='FFT (Magnitude) of Filtered Image')"
      ]
    }
  ],
  "metadata": {
    "colab": {
      "provenance": []
    },
    "kernelspec": {
      "display_name": "Python 3",
      "name": "python3"
    },
    "language_info": {
      "name": "python"
    }
  },
  "nbformat": 4,
  "nbformat_minor": 0
}
