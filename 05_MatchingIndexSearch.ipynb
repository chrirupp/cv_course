{
  "cells": [
    {
      "cell_type": "code",
      "execution_count": null,
      "metadata": {
        "id": "MeNF0rW1rK4L"
      },
      "outputs": [],
      "source": [
        "import cv2\n",
        "import os\n",
        "import numpy as np\n",
        "import matplotlib.pyplot as plt\n",
        "%matplotlib inline"
      ]
    },
    {
      "cell_type": "code",
      "execution_count": null,
      "metadata": {
        "colab": {
          "base_uri": "https://localhost:8080/"
        },
        "id": "J-rZX9DKrzfR",
        "outputId": "824ac89c-7eb6-40dc-8820-68ee17aefc13"
      },
      "outputs": [],
      "source": [
        "%%sh\n",
        "# Download the data - you need to do this only once\n",
        "wget --no-verbose --output-document=image_cc_1.jpg https://github.com/chrirupp/cv_course/raw/main/data/image_cc_1.jpg\n",
        "wget --no-verbose --output-document=image_cc_2.jpg https://github.com/chrirupp/cv_course/raw/main/data/image_cc_2.jpg\n",
        "wget --no-verbose --output-document=image_cc_3.jpg https://github.com/chrirupp/cv_course/raw/main/data/image_cc_3.jpg\n",
        "wget --no-verbose --output-document=image_bridge.jpg https://github.com/chrirupp/cv_course/raw/main/data/image_bridge.jpg\n"
      ]
    },
    {
      "cell_type": "code",
      "execution_count": null,
      "metadata": {
        "id": "_-yk63deyMN1"
      },
      "outputs": [],
      "source": [
        "class Visualizer():\n",
        "    def __init__(self, num_rows=1, num_cols=1, figsize=(5,5), axis_off=True, title='', tight=False, cm=None):\n",
        "        fig, self.axs = plt.subplots(num_rows, num_cols, figsize=figsize, squeeze=False)\n",
        "        # remove ticks\n",
        "        if axis_off:\n",
        "          plt.setp(plt.gcf().get_axes(), xticks=[], yticks=[])\n",
        "        # set colormap\n",
        "        if cm is not None:\n",
        "            plt.set_cmap(cm)\n",
        "        # set supertitle\n",
        "        fig.suptitle(title)\n",
        "        if tight:\n",
        "            fig.subplots_adjust(top=0.88)\n",
        "\n",
        "    def add_image_subplot(self, i, j, image, normalize=False, title_str=''):\n",
        "        if normalize:\n",
        "            image = self.normalize_image(image)\n",
        "        if len(image.shape) == 3:\n",
        "            #BGR -> RGB\n",
        "            image = image[:, :, ::-1]\n",
        "        self.axs[i, j].imshow(image)\n",
        "        self.axs[i, j].set_title(title_str)\n",
        "\n",
        "    def add_stem_subplot(self, i, j, x, y, title_str=''):\n",
        "        self.axs[i, j].stem(x, y)\n",
        "        self.axs[i, j].set_title(title_str)\n",
        "\n",
        "    def add_subplot(self, i, j, data, title_str=''):\n",
        "        self.axs[i, j].plot(data)\n",
        "        self.axs[i, j].set_title(title_str)\n",
        "\n",
        "    def add_bar_subplot(self, i, j, x, y, title_str=''):\n",
        "        self.axs[i, j].bar(x, y)\n",
        "        self.axs[i, j].set_title(title_str)\n",
        "\n",
        "    @staticmethod\n",
        "    def normalize_image(image):\n",
        "        img = np.float64(image) - np.min(image)\n",
        "        img /= np.max(img)\n",
        "        return img"
      ]
    },
    {
      "cell_type": "markdown",
      "metadata": {
        "id": "TXnDBhGdrVDF"
      },
      "source": [
        "# OpenCV SIFT correspondences example"
      ]
    },
    {
      "cell_type": "code",
      "execution_count": null,
      "metadata": {
        "colab": {
          "base_uri": "https://localhost:8080/",
          "height": 469
        },
        "id": "wDouoCjDrP5F",
        "outputId": "3856a28b-1aa4-4516-bd8b-8a44b20ab60b"
      },
      "outputs": [],
      "source": [
        "# read images\n",
        "img1 = cv2.imread('image_cc_1.jpg')\n",
        "img2 = cv2.imread('image_cc_2.jpg')\n",
        "img3 = cv2.imread('image_cc_3.jpg')\n",
        "img_bridge = cv2.imread('image_bridge.jpg')\n",
        "\n",
        "# downsample\n",
        "img1 = cv2.resize(img1, (0, 0), fx=0.125, fy=0.125)\n",
        "img2 = cv2.resize(img2, (0, 0), fx=0.125, fy=0.125)\n",
        "img3 = cv2.resize(img3, (0, 0), fx=0.125, fy=0.125)\n",
        "img_bridge = cv2.resize(img_bridge, (0, 0), fx=0.125, fy=0.125)\n",
        "\n",
        "# convert to grayscale for SIFT\n",
        "img1_gray = cv2.cvtColor(img1, cv2.COLOR_BGR2GRAY)\n",
        "img2_gray = cv2.cvtColor(img2, cv2.COLOR_BGR2GRAY)\n",
        "img3_gray = cv2.cvtColor(img3, cv2.COLOR_BGR2GRAY)\n",
        "img_bridge_gray = cv2.cvtColor(img_bridge, cv2.COLOR_BGR2GRAY)\n",
        "\n",
        "# create sift object\n",
        "sift = cv2.SIFT_create()\n",
        "\n",
        "# detect sift features and compute descriptors\n",
        "kp1, des1 = sift.detectAndCompute(img1_gray, None)\n",
        "kp2, des2 = sift.detectAndCompute(img2_gray, None)\n",
        "kp3, des3 = sift.detectAndCompute(img3_gray, None)\n",
        "kpb, desb = sift.detectAndCompute(img_bridge_gray, None)\n",
        "\n",
        "# show keypoints\n",
        "img1_kp = cv2.drawKeypoints(img1_gray, kp1, None, flags=cv2.DRAW_MATCHES_FLAGS_DRAW_RICH_KEYPOINTS)\n",
        "img2_kp = cv2.drawKeypoints(img2_gray, kp2, None, flags=cv2.DRAW_MATCHES_FLAGS_DRAW_RICH_KEYPOINTS)\n",
        "img3_kp = cv2.drawKeypoints(img3_gray, kp3, None, flags=cv2.DRAW_MATCHES_FLAGS_DRAW_RICH_KEYPOINTS)\n",
        "\n",
        "vis = Visualizer(1, 3, figsize=(25,5), title='SIFT Keypoints')\n",
        "vis.add_image_subplot(0, 0, img1_kp)\n",
        "vis.add_image_subplot(0, 1, img2_kp)\n",
        "vis.add_image_subplot(0, 2, img3_kp)\n"
      ]
    },
    {
      "cell_type": "code",
      "execution_count": null,
      "metadata": {
        "colab": {
          "base_uri": "https://localhost:8080/",
          "height": 472
        },
        "id": "eTi-xVrL2Ndq",
        "outputId": "8b6aa605-a174-4f45-f2b6-cd564b38c1ff"
      },
      "outputs": [],
      "source": [
        "# Matching\n",
        "\n",
        "# create BFMatcher object\n",
        "bf = cv2.BFMatcher(cv2.NORM_L2, crossCheck=True)\n",
        "\n",
        "# match descriptors\n",
        "matches = bf.match(des1, des2)\n",
        "\n",
        "# sort matches by distance\n",
        "matches = sorted(matches, key=lambda x: x.distance)\n",
        "\n",
        "# draw matches\n",
        "img_matches = cv2.drawMatches(img1_gray, kp1, img2_gray, kp2, matches[:100], None, flags=2)\n",
        "Visualizer(figsize=(20,5), title='Matches').add_image_subplot(0, 0, img_matches)"
      ]
    },
    {
      "cell_type": "code",
      "execution_count": null,
      "metadata": {
        "colab": {
          "base_uri": "https://localhost:8080/",
          "height": 420
        },
        "id": "-yN2cTOS0bnX",
        "outputId": "05ba6aef-a583-421d-8ff0-0999916956d2"
      },
      "outputs": [],
      "source": [
        "# Bags of visual words\n",
        "\n",
        "# cluster all keypoints with kmeans\n",
        "all_des = np.concatenate((des1, des2, des3, desb), axis=0)\n",
        "criteria = (cv2.TERM_CRITERIA_EPS + cv2.TERM_CRITERIA_MAX_ITER, 10, 1.0)\n",
        "K = 8\n",
        "ret, label, center = cv2.kmeans(all_des, K, None, criteria, 10, cv2.KMEANS_RANDOM_CENTERS)\n",
        "\n",
        "# show points with labels on the image in colors\n",
        "img1_clusters = img1.copy()\n",
        "for i in range(len(kp1)):\n",
        "    # colormap jet\n",
        "    color = (255 * np.array(plt.cm.jet(label[i,0] / K)[:3])).astype(np.uint8).tolist()\n",
        "    # overlay points\n",
        "    cv2.circle(img1_clusters, (int(kp1[i].pt[0]), int(kp1[i].pt[1])), 3, color, -1)\n",
        "\n",
        "img2_clusters = img2.copy()\n",
        "i_offset = len(kp1)\n",
        "for i in range(len(kp2)):\n",
        "    # colormap jet\n",
        "    color = (255 * np.array(plt.cm.jet(label[i+i_offset,0] / K)[:3])).astype(np.uint8).tolist()\n",
        "    # overlay points\n",
        "    cv2.circle(img2_clusters, (int(kp2[i].pt[0]), int(kp2[i].pt[1])), 3, color, -1)\n",
        "\n",
        "img3_clusters = img3.copy()\n",
        "i_offset = len(kp1) + len(kp2)\n",
        "for i in range(len(kp3)):\n",
        "    # colormap jet\n",
        "    color = (255 * np.array(plt.cm.jet(label[i+i_offset,0] / K)[:3])).astype(np.uint8).tolist()\n",
        "    # overlay points\n",
        "    cv2.circle(img3_clusters, (int(kp3[i].pt[0]), int(kp3[i].pt[1])), 3, color, -1)\n",
        "\n",
        "img_bridge_clusters = img_bridge.copy()\n",
        "i_offset = len(kp1) + len(kp2) + len(kp3)\n",
        "for i in range(len(kpb)):\n",
        "    # colormap jet\n",
        "    color = (255 * np.array(plt.cm.jet(label[i+i_offset,0] / K)[:3])).astype(np.uint8).tolist()\n",
        "    # overlay points\n",
        "    cv2.circle(img_bridge_clusters, (int(kpb[i].pt[0]), int(kpb[i].pt[1])), 3, color, -1)\n",
        "\n",
        "vis = Visualizer(1, 4, figsize=(25,5), title='Clustered SIFT keypoints')\n",
        "vis.add_image_subplot(0, 0, img1_clusters)\n",
        "vis.add_image_subplot(0, 1, img2_clusters)\n",
        "vis.add_image_subplot(0, 2, img3_clusters)\n",
        "vis.add_image_subplot(0, 3, img_bridge_clusters)\n"
      ]
    },
    {
      "cell_type": "code",
      "execution_count": null,
      "metadata": {
        "colab": {
          "base_uri": "https://localhost:8080/",
          "height": 800
        },
        "id": "qL22zLDY_rdC",
        "outputId": "e1a5876c-af01-4c9b-cf96-f8f4aa8be615"
      },
      "outputs": [],
      "source": [
        "# Show bag of visual words histograms\n",
        "h1 = np.histogram(label[:len(kp1)], bins=K)\n",
        "h2 = np.histogram(label[len(kp1):len(kp1)+len(kp2)], bins=K)\n",
        "h3 = np.histogram(label[len(kp1)+len(kp2):len(kp1)+len(kp2)+len(kp3)], bins=K)\n",
        "hb = np.histogram(label[len(kp1)+len(kp2)+len(kp3):], bins=K)\n",
        "\n",
        "vis = Visualizer(2, 4, figsize=(30,10))\n",
        "vis.add_image_subplot(0, 0, img1)\n",
        "vis.add_image_subplot(0, 1, img2)\n",
        "vis.add_image_subplot(0, 2, img3)\n",
        "vis.add_image_subplot(0, 3, img_bridge)\n",
        "vis.add_bar_subplot(1, 0, np.arange(K), h1[0] / np.sum(h1[0]))\n",
        "vis.add_bar_subplot(1, 1, np.arange(K), h2[0] / np.sum(h2[0]))\n",
        "vis.add_bar_subplot(1, 2, np.arange(K), h3[0] / np.sum(h3[0]))\n",
        "vis.add_bar_subplot(1, 3, np.arange(K), hb[0] / np.sum(hb[0]))"
      ]
    },
    {
      "cell_type": "markdown",
      "metadata": {
        "id": "7P8pNs0l3Tkd"
      },
      "source": [
        "# Homography warping example"
      ]
    },
    {
      "cell_type": "code",
      "execution_count": null,
      "metadata": {
        "colab": {
          "base_uri": "https://localhost:8080/",
          "height": 350
        },
        "id": "z1TndNBE3SY3",
        "outputId": "1a9b374a-22ec-404d-ba0d-1006aaa7456c"
      },
      "outputs": [],
      "source": [
        "img1 = cv2.imread('image_cc_1.jpg')\n",
        "img3 = cv2.imread('image_cc_3.jpg')\n",
        "\n",
        "points1 = np.float32([[1801, 1664], [3451, 1692], [3472, 2833], [1726, 2824]]).reshape(4, 2)\n",
        "points3 = np.float32([[1840, 1955], [2286, 1805], [2263, 2586], [1805, 2592]]).reshape(4, 2)\n",
        "\n",
        "homography, status = cv2.findHomography(points1, points3)\n",
        "print(homography)\n",
        "\n",
        "warped = cv2.warpPerspective(img1, homography, (img3.shape[1], img3.shape[0]))\n",
        "Visualizer().add_image_subplot(0, 0, warped)\n"
      ]
    },
    {
      "cell_type": "markdown",
      "metadata": {
        "id": "Y2Eg1Fic8qRN"
      },
      "source": [
        "# Laplacian of Gaussian"
      ]
    },
    {
      "cell_type": "code",
      "execution_count": null,
      "metadata": {
        "colab": {
          "base_uri": "https://localhost:8080/",
          "height": 1000
        },
        "id": "ID6KRd3w8rMC",
        "outputId": "31beafe2-ee58-4175-853e-c90c7a40e3d4"
      },
      "outputs": [],
      "source": [
        "# 1D LoG example\n",
        "simple_signal = (np.abs(np.arange(0, 1000, 1)-500) < 25).astype(np.float32)\n",
        "sigmas = [0.0125, 0.025, 0.05, 0.1, 0.2, 0.3, 0.4, 0.5]\n",
        "\n",
        "vis = Visualizer(8, 3, figsize=(20,25))\n",
        "\n",
        "for i, sigma in enumerate(sigmas):\n",
        "    x = 2*np.arange(0, 1000, 1) / 1000.0 - 1\n",
        "    laplacian_1d = -1/(np.pi*sigma**2) * (1 - x**2 / sigma**2) * np.exp(-x**2 / (2*sigma**2))\n",
        "    convolved = np.convolve(simple_signal, laplacian_1d, mode='same') * (sigma)\n",
        "\n",
        "    vis.add_subplot(i, 0, simple_signal, title_str='Input signal')\n",
        "    vis.add_subplot(i, 1, laplacian_1d, title_str=f'Log Laplacian (sigma={sigma})')\n",
        "    vis.add_subplot(i, 2, convolved, title_str='Convolved')"
      ]
    }
  ],
  "metadata": {
    "colab": {
      "provenance": []
    },
    "kernelspec": {
      "display_name": "Python 3",
      "name": "python3"
    },
    "language_info": {
      "name": "python"
    }
  },
  "nbformat": 4,
  "nbformat_minor": 0
}
