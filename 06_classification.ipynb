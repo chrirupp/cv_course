{
  "cells": [
    {
      "cell_type": "code",
      "execution_count": null,
      "metadata": {
        "colab": {
          "base_uri": "https://localhost:8080/"
        },
        "id": "jQ_Db-mK_Bub",
        "outputId": "947bd0eb-bbca-48c1-bac6-fe1969333d1b"
      },
      "outputs": [],
      "source": [
        "%%sh\n",
        "# Colab does not have Faiss, you need to install it.\n",
        "pip install faiss-cpu"
      ]
    },
    {
      "cell_type": "code",
      "execution_count": null,
      "metadata": {
        "id": "FRFQVcZt-dUi"
      },
      "outputs": [],
      "source": [
        "import cv2\n",
        "import numpy as np\n",
        "import matplotlib.pyplot as plt\n",
        "import copy\n",
        "import random\n",
        "from tqdm import tqdm\n",
        "import torch\n",
        "import faiss\n",
        "from torchvision import datasets"
      ]
    },
    {
      "cell_type": "code",
      "execution_count": null,
      "metadata": {
        "id": "u1Txd3Co-dUo"
      },
      "outputs": [],
      "source": [
        "class Visualizer():\n",
        "    def __init__(self, num_rows=1, num_cols=1, figsize=(5,5), axis_off=True, title='', tight=False, cm=None):\n",
        "        fig, self.axs = plt.subplots(num_rows, num_cols, figsize=figsize, squeeze=False)\n",
        "        # remove ticks\n",
        "        if axis_off:\n",
        "          plt.setp(plt.gcf().get_axes(), xticks=[], yticks=[])\n",
        "        # set colormap\n",
        "        if cm is not None:\n",
        "            plt.set_cmap(cm)\n",
        "        # set supertitle\n",
        "        fig.suptitle(title)\n",
        "        if tight:\n",
        "            fig.subplots_adjust(top=0.88)\n",
        "\n",
        "    def add_image_subplot(self, i, j, image, normalize=False, title_str=''):\n",
        "        if normalize:\n",
        "            image = self.normalize_image(image)\n",
        "        if len(image.shape) == 3:\n",
        "            #BGR -> RGB\n",
        "            image = image[:, :, ::-1]\n",
        "        self.axs[i, j].imshow(image)\n",
        "        self.axs[i, j].set_title(title_str)\n",
        "\n",
        "    def add_stem_subplot(self, i, j, x, y, title_str=''):\n",
        "        self.axs[i, j].stem(x, y)\n",
        "        self.axs[i, j].set_title(title_str)\n",
        "\n",
        "    def add_subplot(self, i, j, data, title_str=''):\n",
        "        self.axs[i, j].plot(data)\n",
        "        self.axs[i, j].set_title(title_str)\n",
        "\n",
        "    def add_bar_subplot(self, i, j, x, y, title_str=''):\n",
        "        self.axs[i, j].bar(x, y)\n",
        "        self.axs[i, j].set_title(title_str)\n",
        "\n",
        "    def add_scatter_subplot_with_labels(self, i, j, data, labels, legend=None, xlabel=None, ylabel=None, title_str=''):\n",
        "        scatter = self.axs[i, j].scatter(data[:,0], data[:,1], c=labels)\n",
        "        if legend is not None:\n",
        "            plt.legend(handles=scatter.legend_elements()[0], labels=legend)\n",
        "        if xlabel is not None:\n",
        "            self.axs[i, j].set_xlabel(xlabel)\n",
        "        if xlabel is not None:\n",
        "            self.axs[i, j].set_ylabel(ylabel)\n",
        "        self.axs[i, j].set_title(title_str)\n",
        "\n",
        "    @staticmethod\n",
        "    def normalize_image(image):\n",
        "        img = np.float64(image) - np.min(image)\n",
        "        img /= np.max(img)\n",
        "        return img"
      ]
    },
    {
      "cell_type": "code",
      "execution_count": null,
      "metadata": {
        "colab": {
          "base_uri": "https://localhost:8080/",
          "height": 390
        },
        "id": "MyWQL9wt-dUr",
        "outputId": "09ee91a1-fdce-4378-88a8-52628ec70fe1"
      },
      "outputs": [],
      "source": [
        "# get cifar10 dataset\n",
        "train_dataset = datasets.CIFAR10('../data', train=True, download=True)\n",
        "test_dataset = datasets.CIFAR10('../data', train=False, download=True)\n",
        "\n",
        "# samples from cifar10 dataset\n",
        "vis = Visualizer(3, 10, figsize=(25,5), title='CIFAR10 samples')\n",
        "for i in range(30):\n",
        "    image = train_dataset[i][0]\n",
        "    # convert image to numpy array\n",
        "    image = np.array(image)[:,:,::-1]\n",
        "    vis.add_image_subplot(i // 10, i % 10, image, title_str=train_dataset.classes[train_dataset[i][1]])\n"
      ]
    },
    {
      "cell_type": "code",
      "execution_count": null,
      "metadata": {
        "colab": {
          "base_uri": "https://localhost:8080/",
          "height": 551
        },
        "id": "SWtYJ1vK-dUu",
        "outputId": "7c6c2473-f493-4453-ad12-0e277261a54f"
      },
      "outputs": [],
      "source": [
        "# get boats and deer from the dataset\n",
        "boat_idx = train_dataset.class_to_idx['ship']\n",
        "deer_idx = train_dataset.class_to_idx['deer']\n",
        "\n",
        "def color_feature(image):\n",
        "    # compute number of blue and green pixels\n",
        "    colors = np.argmax(image, axis=2)\n",
        "    intensities = np.max(image, axis=2)\n",
        "    blue_pixels = np.sum((colors == 2) & (intensities > 128))\n",
        "    green_pixels = np.sum((colors == 1) & (intensities > 128))\n",
        "    return np.array([blue_pixels, green_pixels])\n",
        "\n",
        "def compute_boat_deer_features(dataset):\n",
        "    # restrict dataset to boats and deer\n",
        "    boat_deer_dataset = []\n",
        "    boat_deer_labels = []\n",
        "    for i in range(len(dataset)):\n",
        "        if dataset[i][1] == boat_idx:\n",
        "            boat_deer_dataset.append(dataset[i])\n",
        "            boat_deer_labels.append(0)\n",
        "        elif dataset[i][1] == deer_idx:\n",
        "            boat_deer_dataset.append(dataset[i])\n",
        "            boat_deer_labels.append(1)\n",
        "    boat_deer_labels = np.array(boat_deer_labels)\n",
        "\n",
        "    # compute all features\n",
        "    features = np.zeros((len(boat_deer_dataset), 2))\n",
        "    for i in tqdm(range(len(boat_deer_dataset))):\n",
        "        image = np.array(boat_deer_dataset[i][0])\n",
        "        features[i] = color_feature(image)\n",
        "    return features, boat_deer_labels\n",
        "\n",
        "train_features, train_labels = compute_boat_deer_features(train_dataset)\n",
        "test_features, test_labels = compute_boat_deer_features(test_dataset)\n",
        "\n",
        "# plot features\n",
        "vis = Visualizer(1, 1, figsize=(5,5), title='Color features', axis_off=False)\n",
        "vis.add_scatter_subplot_with_labels(0, 0, train_features[:200], train_labels[:200],\n",
        "                                    legend=['boat', 'deer'], xlabel='# Blue pixels', ylabel='# Green pixels')"
      ]
    },
    {
      "cell_type": "code",
      "execution_count": null,
      "metadata": {
        "colab": {
          "base_uri": "https://localhost:8080/",
          "height": 495
        },
        "id": "CugWXDy8-dUw",
        "outputId": "659209e4-e0cb-43de-866e-1bc515fd1f24"
      },
      "outputs": [],
      "source": [
        "# compute NN lookup index in faiss\n",
        "index = faiss.IndexFlatL2(2)\n",
        "index.add(train_features)\n",
        "\n",
        "# compute nearest neighbor classification accuracy on the test set\n",
        "def nn_classify(k=1):\n",
        "    _, indices = index.search(test_features, k)\n",
        "    predictions = np.zeros(len(test_labels))\n",
        "    for i in range(len(test_labels)):\n",
        "        predictions[i] = np.argmax(np.bincount(train_labels[indices[i, :]]))\n",
        "    accuracy = np.sum(predictions == test_labels) / len(test_labels)\n",
        "    return accuracy\n",
        "\n",
        "# compute accuracy for different k\n",
        "accuracies = []\n",
        "ks = [1, 2, 5, 10, 50, 100]\n",
        "for k in ks:\n",
        "    accuracies.append(nn_classify(k))\n",
        "vis = Visualizer(1, 1, axis_off=False, figsize=(5,5), title='Accuracy for different k')\n",
        "vis.add_stem_subplot(0, 0, ks, accuracies, title_str='Accuracy')\n"
      ]
    },
    {
      "cell_type": "code",
      "execution_count": null,
      "metadata": {
        "colab": {
          "base_uri": "https://localhost:8080/",
          "height": 834
        },
        "id": "PSta1B4E-dUx",
        "outputId": "ee97ef7b-949f-4906-c706-5e0d4aa471db"
      },
      "outputs": [],
      "source": [
        "# create softmax examples\n",
        "def softmax(x, temperature=1):\n",
        "    return np.exp(x/temperature) / np.sum(np.exp(x/temperature))\n",
        "\n",
        "input = np.array([5, -2, -3, 3, 7])\n",
        "\n",
        "#plot input\n",
        "vis = Visualizer(1, 1, figsize=(5,5), axis_off=False, title='Input')\n",
        "vis.add_bar_subplot(0, 0, np.arange(input.shape[0]), input)\n",
        "\n",
        "# plot softmax for different temperatures\n",
        "vis = Visualizer(1, 5, figsize=(25,5), axis_off=False, title='Softmax')\n",
        "for i, temperature in enumerate([0.1, 0.5, 1, 2, 10]):\n",
        "    vis.add_bar_subplot(0, i, np.arange(input.shape[0]), softmax(input, temperature=temperature), title_str=f'tau={temperature}'.format(temperature))"
      ]
    }
  ],
  "metadata": {
    "accelerator": "GPU",
    "colab": {
      "gpuType": "T4",
      "provenance": []
    },
    "kernelspec": {
      "display_name": "Python 3",
      "name": "python3"
    },
    "language_info": {
      "codemirror_mode": {
        "name": "ipython",
        "version": 3
      },
      "file_extension": ".py",
      "mimetype": "text/x-python",
      "name": "python",
      "nbconvert_exporter": "python",
      "pygments_lexer": "ipython3",
      "version": "3.10.13"
    }
  },
  "nbformat": 4,
  "nbformat_minor": 0
}
